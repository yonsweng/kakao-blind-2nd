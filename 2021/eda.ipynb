{
 "cells": [
  {
   "cell_type": "code",
   "execution_count": 1,
   "source": [
    "import json"
   ],
   "outputs": [],
   "metadata": {}
  },
  {
   "cell_type": "code",
   "execution_count": 7,
   "source": [
    "def f(d):\r\n",
    "    for start_min in range(0, 720, 240):\r\n",
    "        end_min = start_min + 240\r\n",
    "        start_cnt, end_cnt = [0] * 10000, [0] * 10000\r\n",
    "        for m in range(start_min, end_min):\r\n",
    "            if str(m) not in d:\r\n",
    "                continue\r\n",
    "\r\n",
    "            for call in d[str(m)]:\r\n",
    "                start, end, duration = tuple(call)\r\n",
    "                start_cnt[start] += 1\r\n",
    "                end_cnt[end] += 1\r\n",
    "        start_cnt = sorted([(i, cnt) for i, cnt in enumerate(start_cnt)], key=lambda x: -x[1])\r\n",
    "        end_cnt = sorted([(i, cnt) for i, cnt in enumerate(end_cnt)], key=lambda x: -x[1])\r\n",
    "\r\n",
    "        print(start_min, end_min, start_cnt[:5], end_cnt[:5])"
   ],
   "outputs": [],
   "metadata": {}
  },
  {
   "cell_type": "code",
   "execution_count": 19,
   "source": [
    "with open('problem2_day-1.json', 'r') as fp:\r\n",
    "    d = json.load(fp)\r\n",
    "# g(d)\r\n",
    "# print(d)"
   ],
   "outputs": [],
   "metadata": {}
  },
  {
   "cell_type": "code",
   "execution_count": 17,
   "source": [
    "with open('problem2_day-2.json', 'r') as fp:\r\n",
    "    d = json.load(fp)\r\n",
    "f(d)"
   ],
   "outputs": [
    {
     "output_type": "stream",
     "name": "stdout",
     "text": [
      "0 240 [(3595, 38), (296, 22), (65, 21), (667, 15), (3056, 15)] [(3037, 27), (3386, 21), (2758, 20), (698, 19), (2712, 14)]\n",
      "240 480 [(724, 25), (628, 20), (2246, 17), (870, 16), (3329, 16)] [(2635, 29), (3102, 22), (1057, 18), (1320, 15), (1897, 12)]\n",
      "480 720 [(2233, 32), (3515, 30), (969, 28), (2075, 14), (3335, 14)] [(2465, 27), (1571, 20), (3589, 19), (2693, 18), (1929, 17)]\n"
     ]
    }
   ],
   "metadata": {}
  },
  {
   "cell_type": "code",
   "execution_count": 10,
   "source": [
    "with open('problem2_day-3.json', 'r') as fp:\r\n",
    "    d = json.load(fp)\r\n",
    "f(d)"
   ],
   "outputs": [
    {
     "output_type": "stream",
     "name": "stdout",
     "text": [
      "0 240 [(3595, 34), (65, 20), (2100, 15), (3056, 15), (1228, 13)] [(3037, 26), (3386, 26), (2758, 19), (802, 16), (3317, 16)]\n",
      "240 480 [(724, 19), (1967, 18), (628, 17), (3329, 16), (2246, 15)] [(2635, 36), (1475, 17), (927, 16), (1320, 16), (2910, 15)]\n",
      "480 720 [(969, 32), (3515, 22), (841, 15), (2075, 14), (2781, 13)] [(2465, 32), (1571, 25), (1688, 16), (2254, 16), (2537, 16)]\n"
     ]
    }
   ],
   "metadata": {}
  },
  {
   "cell_type": "code",
   "execution_count": 15,
   "source": [
    "import json\r\n",
    "\r\n",
    "problem = 2\r\n",
    "if problem == 1:\r\n",
    "    n_cells = 5 * 5\r\n",
    "else:\r\n",
    "    n_cells = 60 * 60\r\n",
    "\r\n",
    "offset = [[0] * n_cells for _ in range(720)]\r\n",
    "\r\n",
    "for i in range(1, 4):\r\n",
    "    with open(f'senarios/problem{problem}_day-{i}.json', 'r') as f:\r\n",
    "        data = json.load(f)\r\n",
    "\r\n",
    "    # print(data)\r\n",
    "\r\n",
    "    for t in range(720):\r\n",
    "        if t > 0:\r\n",
    "            for j in range(n_cells):\r\n",
    "                offset[t][j] += offset[t-1][j]\r\n",
    "\r\n",
    "        if str(t) not in data:\r\n",
    "            continue\r\n",
    "\r\n",
    "        for call in data[str(t)]:\r\n",
    "            start, end, duration = tuple(call)\r\n",
    "            offset[t][start] -= 1\r\n",
    "            if t+duration < 720:\r\n",
    "                offset[t+duration][end] += 1\r\n",
    "\r\n",
    "# print(offset)\r\n",
    "\r\n",
    "for t in range(720):\r\n",
    "    for j in range(n_cells):\r\n",
    "        offset[t][j] /= 3\r\n",
    "\r\n",
    "with open(f'offset{problem}.json', 'w') as f:\r\n",
    "    json.dump({'offset': offset}, f)"
   ],
   "outputs": [],
   "metadata": {}
  },
  {
   "cell_type": "code",
   "execution_count": null,
   "source": [],
   "outputs": [],
   "metadata": {}
  }
 ],
 "metadata": {
  "orig_nbformat": 4,
  "language_info": {
   "name": "python",
   "version": "3.9.7",
   "mimetype": "text/x-python",
   "codemirror_mode": {
    "name": "ipython",
    "version": 3
   },
   "pygments_lexer": "ipython3",
   "nbconvert_exporter": "python",
   "file_extension": ".py"
  },
  "kernelspec": {
   "name": "python3",
   "display_name": "Python 3.9.7 64-bit ('kakao': conda)"
  },
  "interpreter": {
   "hash": "d935d17dc0bf3309f5fefbab1eced0a2bd93da589eee0e991ab4b6e3fbed626c"
  }
 },
 "nbformat": 4,
 "nbformat_minor": 2
}