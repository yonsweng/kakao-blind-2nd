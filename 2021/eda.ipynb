{
 "cells": [
  {
   "cell_type": "code",
   "execution_count": 1,
   "source": [
    "import json"
   ],
   "outputs": [],
   "metadata": {}
  },
  {
   "cell_type": "code",
   "execution_count": 7,
   "source": [
    "def f(d):\n",
    "    for start_min in range(0, 720, 240):\n",
    "        end_min = start_min + 240\n",
    "        start_cnt, end_cnt = [0] * 10000, [0] * 10000\n",
    "        for m in range(start_min, end_min):\n",
    "            if str(m) not in d:\n",
    "                continue\n",
    "\n",
    "            for call in d[str(m)]:\n",
    "                start, end, duration = tuple(call)\n",
    "                start_cnt[start] += 1\n",
    "                end_cnt[end] += 1\n",
    "        start_cnt = sorted([(i, cnt) for i, cnt in enumerate(start_cnt)], key=lambda x: -x[1])\n",
    "        end_cnt = sorted([(i, cnt) for i, cnt in enumerate(end_cnt)], key=lambda x: -x[1])\n",
    "\n",
    "        print(start_min, end_min, start_cnt[:5], end_cnt[:5])"
   ],
   "outputs": [],
   "metadata": {}
  },
  {
   "cell_type": "code",
   "execution_count": 19,
   "source": [
    "with open('problem2_day-1.json', 'r') as fp:\n",
    "    d = json.load(fp)\n",
    "# g(d)\n",
    "# print(d)"
   ],
   "outputs": [],
   "metadata": {}
  },
  {
   "cell_type": "code",
   "execution_count": 17,
   "source": [
    "with open('problem2_day-2.json', 'r') as fp:\n",
    "    d = json.load(fp)\n",
    "f(d)"
   ],
   "outputs": [
    {
     "output_type": "stream",
     "name": "stdout",
     "text": [
      "0 240 [(3595, 38), (296, 22), (65, 21), (667, 15), (3056, 15)] [(3037, 27), (3386, 21), (2758, 20), (698, 19), (2712, 14)]\n",
      "240 480 [(724, 25), (628, 20), (2246, 17), (870, 16), (3329, 16)] [(2635, 29), (3102, 22), (1057, 18), (1320, 15), (1897, 12)]\n",
      "480 720 [(2233, 32), (3515, 30), (969, 28), (2075, 14), (3335, 14)] [(2465, 27), (1571, 20), (3589, 19), (2693, 18), (1929, 17)]\n"
     ]
    }
   ],
   "metadata": {}
  },
  {
   "cell_type": "code",
   "execution_count": 10,
   "source": [
    "with open('problem2_day-3.json', 'r') as fp:\n",
    "    d = json.load(fp)\n",
    "f(d)"
   ],
   "outputs": [
    {
     "output_type": "stream",
     "name": "stdout",
     "text": [
      "0 240 [(3595, 34), (65, 20), (2100, 15), (3056, 15), (1228, 13)] [(3037, 26), (3386, 26), (2758, 19), (802, 16), (3317, 16)]\n",
      "240 480 [(724, 19), (1967, 18), (628, 17), (3329, 16), (2246, 15)] [(2635, 36), (1475, 17), (927, 16), (1320, 16), (2910, 15)]\n",
      "480 720 [(969, 32), (3515, 22), (841, 15), (2075, 14), (2781, 13)] [(2465, 32), (1571, 25), (1688, 16), (2254, 16), (2537, 16)]\n"
     ]
    }
   ],
   "metadata": {}
  },
  {
   "cell_type": "code",
   "execution_count": 16,
   "source": [
    "def g(d):\n",
    "    diff = [[0] * 720] * 3600\n",
    "\n",
    "    for i in range(720):\n",
    "        if str(i) not in d:\n",
    "            continue\n",
    "\n",
    "        for call in d[str(i)]:\n",
    "            start, end, duration = tuple(call)\n",
    "            diff[start][i] -= 1\n",
    "            if i + duration < 720:\n",
    "                diff[end][i+duration] += 1\n",
    "\n",
    "    print(diff)"
   ],
   "outputs": [],
   "metadata": {}
  },
  {
   "cell_type": "code",
   "execution_count": null,
   "source": [],
   "outputs": [],
   "metadata": {}
  }
 ],
 "metadata": {
  "orig_nbformat": 4,
  "language_info": {
   "name": "python",
   "version": "3.9.7",
   "mimetype": "text/x-python",
   "codemirror_mode": {
    "name": "ipython",
    "version": 3
   },
   "pygments_lexer": "ipython3",
   "nbconvert_exporter": "python",
   "file_extension": ".py"
  },
  "kernelspec": {
   "name": "python3",
   "display_name": "Python 3.9.7 64-bit ('kakao': venv)"
  },
  "interpreter": {
   "hash": "1514cdb5c0ef3f752a173b723d3085614c52b67c39b6e205d70aeb3581d6d819"
  }
 },
 "nbformat": 4,
 "nbformat_minor": 2
}