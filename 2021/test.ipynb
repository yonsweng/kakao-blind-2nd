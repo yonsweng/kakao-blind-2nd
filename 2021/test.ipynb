{
 "cells": [
  {
   "cell_type": "code",
   "execution_count": 18,
   "source": [
    "import requests\r\n",
    "import json"
   ],
   "outputs": [],
   "metadata": {}
  },
  {
   "cell_type": "code",
   "execution_count": 19,
   "source": [
    "r = requests.post(\r\n",
    "    'https://kox947ka1a.execute-api.ap-northeast-2.amazonaws.com/prod/users/start',\r\n",
    "    headers={'X-Auth-Token': '448f0d94a0a37008d03624e05a7e656e'},\r\n",
    "    data={'problem': 1}\r\n",
    ")\r\n",
    "auth_key = r.json()['auth_key']"
   ],
   "outputs": [],
   "metadata": {}
  },
  {
   "cell_type": "code",
   "execution_count": 20,
   "source": [
    "# locations: 각 자전거 대여소의 ID, 보유하고 있는 자전거 수에 대한 정보를 담은 배열\r\n",
    "r = requests.get(\r\n",
    "    'https://kox947ka1a.execute-api.ap-northeast-2.amazonaws.com/prod/users/locations',\r\n",
    "    headers={'Authorization': auth_key})\r\n",
    "r.json()"
   ],
   "outputs": [
    {
     "output_type": "execute_result",
     "data": {
      "text/plain": [
       "{'locations': [{'id': 0, 'located_bikes_count': 4},\n",
       "  {'id': 1, 'located_bikes_count': 4},\n",
       "  {'id': 2, 'located_bikes_count': 4},\n",
       "  {'id': 3, 'located_bikes_count': 4},\n",
       "  {'id': 4, 'located_bikes_count': 4},\n",
       "  {'id': 5, 'located_bikes_count': 4},\n",
       "  {'id': 6, 'located_bikes_count': 4},\n",
       "  {'id': 7, 'located_bikes_count': 4},\n",
       "  {'id': 8, 'located_bikes_count': 4},\n",
       "  {'id': 9, 'located_bikes_count': 4},\n",
       "  {'id': 10, 'located_bikes_count': 4},\n",
       "  {'id': 11, 'located_bikes_count': 4},\n",
       "  {'id': 12, 'located_bikes_count': 4},\n",
       "  {'id': 13, 'located_bikes_count': 4},\n",
       "  {'id': 14, 'located_bikes_count': 4},\n",
       "  {'id': 15, 'located_bikes_count': 4},\n",
       "  {'id': 16, 'located_bikes_count': 4},\n",
       "  {'id': 17, 'located_bikes_count': 4},\n",
       "  {'id': 18, 'located_bikes_count': 4},\n",
       "  {'id': 19, 'located_bikes_count': 4},\n",
       "  {'id': 20, 'located_bikes_count': 4},\n",
       "  {'id': 21, 'located_bikes_count': 4},\n",
       "  {'id': 22, 'located_bikes_count': 4},\n",
       "  {'id': 23, 'located_bikes_count': 4},\n",
       "  {'id': 24, 'located_bikes_count': 4}]}"
      ]
     },
     "metadata": {},
     "execution_count": 20
    }
   ],
   "metadata": {}
  },
  {
   "cell_type": "code",
   "execution_count": 21,
   "source": [
    "# trucks: 각 트럭의 ID, 싣고 있는 자전거 수에 대한 정보를 담은 배열\r\n",
    "r = requests.get(\r\n",
    "    'https://kox947ka1a.execute-api.ap-northeast-2.amazonaws.com/prod/users/trucks',\r\n",
    "    headers={'Authorization': auth_key})\r\n",
    "trucks = r.json()['trucks']"
   ],
   "outputs": [],
   "metadata": {}
  },
  {
   "cell_type": "code",
   "execution_count": 22,
   "source": [
    "trucks"
   ],
   "outputs": [
    {
     "output_type": "execute_result",
     "data": {
      "text/plain": [
       "[{'id': 0, 'loaded_bikes_count': 0, 'location_id': 0},\n",
       " {'id': 1, 'loaded_bikes_count': 0, 'location_id': 0},\n",
       " {'id': 2, 'loaded_bikes_count': 0, 'location_id': 0},\n",
       " {'id': 3, 'loaded_bikes_count': 0, 'location_id': 0},\n",
       " {'id': 4, 'loaded_bikes_count': 0, 'location_id': 0}]"
      ]
     },
     "metadata": {},
     "execution_count": 22
    }
   ],
   "metadata": {}
  },
  {
   "cell_type": "code",
   "execution_count": 25,
   "source": [
    "for _ in range(720):\r\n",
    "    commands = [\r\n",
    "        {'truck_id': i, 'command': [0, 0, 0, 0, 0]}\r\n",
    "        for i in range(len(trucks))\r\n",
    "    ]\r\n",
    "\r\n",
    "    r = requests.put(\r\n",
    "        'https://kox947ka1a.execute-api.ap-northeast-2.amazonaws.com/prod/users/simulate',\r\n",
    "        headers={'Authorization': auth_key},\r\n",
    "        data=json.dumps({'commands': commands})\r\n",
    "    )\r\n",
    "    if r.status_code != 200:\r\n",
    "        print(_, r.status_code)"
   ],
   "outputs": [],
   "metadata": {}
  },
  {
   "cell_type": "code",
   "execution_count": 26,
   "source": [
    "r = requests.get(\r\n",
    "    'https://kox947ka1a.execute-api.ap-northeast-2.amazonaws.com/prod/users/score',\r\n",
    "    headers={'Authorization': 'bf5e3cc2-c946-40d0-b9cb-8e441a2c587c'}\r\n",
    ")\r\n",
    "r.json()"
   ],
   "outputs": [
    {
     "output_type": "execute_result",
     "data": {
      "text/plain": [
       "{'score': 0.0}"
      ]
     },
     "metadata": {},
     "execution_count": 26
    }
   ],
   "metadata": {}
  },
  {
   "cell_type": "code",
   "execution_count": 5,
   "source": [
    "session = False\r\n",
    "g = session or [2, 3, 4]\r\n",
    "g"
   ],
   "outputs": [
    {
     "output_type": "execute_result",
     "data": {
      "text/plain": [
       "[2, 3, 4]"
      ]
     },
     "metadata": {},
     "execution_count": 5
    }
   ],
   "metadata": {}
  },
  {
   "cell_type": "code",
   "execution_count": 5,
   "source": [
    "def f(l):\r\n",
    "    l[0] = {'id': 1}\r\n",
    "\r\n",
    "l = [{'id': 0}, {'id': 1}]\r\n",
    "f(l)\r\n",
    "l"
   ],
   "outputs": [
    {
     "output_type": "execute_result",
     "data": {
      "text/plain": [
       "[{'id': 1}, {'id': 1}]"
      ]
     },
     "metadata": {},
     "execution_count": 5
    }
   ],
   "metadata": {}
  },
  {
   "cell_type": "code",
   "execution_count": null,
   "source": [],
   "outputs": [],
   "metadata": {}
  }
 ],
 "metadata": {
  "orig_nbformat": 4,
  "language_info": {
   "name": "python",
   "version": "3.9.5",
   "mimetype": "text/x-python",
   "codemirror_mode": {
    "name": "ipython",
    "version": 3
   },
   "pygments_lexer": "ipython3",
   "nbconvert_exporter": "python",
   "file_extension": ".py"
  },
  "kernelspec": {
   "name": "python3",
   "display_name": "Python 3.9.5 64-bit ('base': conda)"
  },
  "interpreter": {
   "hash": "65ce032b38d53843dfac77001fac84d4ce209ec1dd8802e429b11b2e6ca0ae89"
  }
 },
 "nbformat": 4,
 "nbformat_minor": 2
}