{
 "cells": [
  {
   "cell_type": "code",
   "execution_count": 18,
   "source": [
    "import requests\n",
    "import json"
   ],
   "outputs": [],
   "metadata": {}
  },
  {
   "cell_type": "code",
   "execution_count": 19,
   "source": [
    "r = requests.post(\n",
    "    'https://kox947ka1a.execute-api.ap-northeast-2.amazonaws.com/prod/users/start',\n",
    "    headers={'X-Auth-Token': '448f0d94a0a37008d03624e05a7e656e'},\n",
    "    data={'problem': 1}\n",
    ")\n",
    "auth_key = r.json()['auth_key']"
   ],
   "outputs": [],
   "metadata": {}
  },
  {
   "cell_type": "code",
   "execution_count": 20,
   "source": [
    "# locations: 각 자전거 대여소의 ID, 보유하고 있는 자전거 수에 대한 정보를 담은 배열\n",
    "r = requests.get(\n",
    "    'https://kox947ka1a.execute-api.ap-northeast-2.amazonaws.com/prod/users/locations',\n",
    "    headers={'Authorization': auth_key})\n",
    "r.json()"
   ],
   "outputs": [
    {
     "output_type": "execute_result",
     "data": {
      "text/plain": [
       "{'locations': [{'id': 0, 'located_bikes_count': 4},\n",
       "  {'id': 1, 'located_bikes_count': 4},\n",
       "  {'id': 2, 'located_bikes_count': 4},\n",
       "  {'id': 3, 'located_bikes_count': 4},\n",
       "  {'id': 4, 'located_bikes_count': 4},\n",
       "  {'id': 5, 'located_bikes_count': 4},\n",
       "  {'id': 6, 'located_bikes_count': 4},\n",
       "  {'id': 7, 'located_bikes_count': 4},\n",
       "  {'id': 8, 'located_bikes_count': 4},\n",
       "  {'id': 9, 'located_bikes_count': 4},\n",
       "  {'id': 10, 'located_bikes_count': 4},\n",
       "  {'id': 11, 'located_bikes_count': 4},\n",
       "  {'id': 12, 'located_bikes_count': 4},\n",
       "  {'id': 13, 'located_bikes_count': 4},\n",
       "  {'id': 14, 'located_bikes_count': 4},\n",
       "  {'id': 15, 'located_bikes_count': 4},\n",
       "  {'id': 16, 'located_bikes_count': 4},\n",
       "  {'id': 17, 'located_bikes_count': 4},\n",
       "  {'id': 18, 'located_bikes_count': 4},\n",
       "  {'id': 19, 'located_bikes_count': 4},\n",
       "  {'id': 20, 'located_bikes_count': 4},\n",
       "  {'id': 21, 'located_bikes_count': 4},\n",
       "  {'id': 22, 'located_bikes_count': 4},\n",
       "  {'id': 23, 'located_bikes_count': 4},\n",
       "  {'id': 24, 'located_bikes_count': 4}]}"
      ]
     },
     "metadata": {},
     "execution_count": 20
    }
   ],
   "metadata": {}
  },
  {
   "cell_type": "code",
   "execution_count": 21,
   "source": [
    "# trucks: 각 트럭의 ID, 싣고 있는 자전거 수에 대한 정보를 담은 배열\n",
    "r = requests.get(\n",
    "    'https://kox947ka1a.execute-api.ap-northeast-2.amazonaws.com/prod/users/trucks',\n",
    "    headers={'Authorization': auth_key})\n",
    "trucks = r.json()['trucks']"
   ],
   "outputs": [],
   "metadata": {}
  },
  {
   "cell_type": "code",
   "execution_count": 22,
   "source": [
    "trucks"
   ],
   "outputs": [
    {
     "output_type": "execute_result",
     "data": {
      "text/plain": [
       "[{'id': 0, 'loaded_bikes_count': 0, 'location_id': 0},\n",
       " {'id': 1, 'loaded_bikes_count': 0, 'location_id': 0},\n",
       " {'id': 2, 'loaded_bikes_count': 0, 'location_id': 0},\n",
       " {'id': 3, 'loaded_bikes_count': 0, 'location_id': 0},\n",
       " {'id': 4, 'loaded_bikes_count': 0, 'location_id': 0}]"
      ]
     },
     "metadata": {},
     "execution_count": 22
    }
   ],
   "metadata": {}
  },
  {
   "cell_type": "code",
   "execution_count": 25,
   "source": [
    "for _ in range(720):\n",
    "    commands = [\n",
    "        {'truck_id': i, 'command': [0, 0, 0, 0, 0]}\n",
    "        for i in range(len(trucks))\n",
    "    ]\n",
    "\n",
    "    r = requests.put(\n",
    "        'https://kox947ka1a.execute-api.ap-northeast-2.amazonaws.com/prod/users/simulate',\n",
    "        headers={'Authorization': auth_key},\n",
    "        data=json.dumps({'commands': commands})\n",
    "    )\n",
    "    if r.status_code != 200:\n",
    "        print(_, r.status_code)"
   ],
   "outputs": [],
   "metadata": {}
  },
  {
   "cell_type": "code",
   "execution_count": 26,
   "source": [
    "r = requests.get(\n",
    "    'https://kox947ka1a.execute-api.ap-northeast-2.amazonaws.com/prod/users/score',\n",
    "    headers={'Authorization': 'bf5e3cc2-c946-40d0-b9cb-8e441a2c587c'}\n",
    ")\n",
    "r.json()"
   ],
   "outputs": [
    {
     "output_type": "execute_result",
     "data": {
      "text/plain": [
       "{'score': 0.0}"
      ]
     },
     "metadata": {},
     "execution_count": 26
    }
   ],
   "metadata": {}
  },
  {
   "cell_type": "code",
   "execution_count": 5,
   "source": [
    "session = False\n",
    "g = session or [2, 3, 4]\n",
    "g"
   ],
   "outputs": [
    {
     "output_type": "execute_result",
     "data": {
      "text/plain": [
       "[2, 3, 4]"
      ]
     },
     "metadata": {},
     "execution_count": 5
    }
   ],
   "metadata": {}
  },
  {
   "cell_type": "code",
   "execution_count": null,
   "source": [],
   "outputs": [],
   "metadata": {}
  }
 ],
 "metadata": {
  "orig_nbformat": 4,
  "language_info": {
   "name": "python",
   "version": "3.9.7",
   "mimetype": "text/x-python",
   "codemirror_mode": {
    "name": "ipython",
    "version": 3
   },
   "pygments_lexer": "ipython3",
   "nbconvert_exporter": "python",
   "file_extension": ".py"
  },
  "kernelspec": {
   "name": "python3",
   "display_name": "Python 3.9.7 64-bit ('kakao': venv)"
  },
  "interpreter": {
   "hash": "1514cdb5c0ef3f752a173b723d3085614c52b67c39b6e205d70aeb3581d6d819"
  }
 },
 "nbformat": 4,
 "nbformat_minor": 2
}