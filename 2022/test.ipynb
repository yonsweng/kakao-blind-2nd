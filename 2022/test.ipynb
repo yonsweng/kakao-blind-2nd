{
 "cells": [
  {
   "cell_type": "code",
   "execution_count": 1,
   "source": [
    "1+2"
   ],
   "outputs": [
    {
     "output_type": "execute_result",
     "data": {
      "text/plain": [
       "3"
      ]
     },
     "metadata": {},
     "execution_count": 1
    }
   ],
   "metadata": {}
  },
  {
   "cell_type": "code",
   "execution_count": null,
   "source": [],
   "outputs": [],
   "metadata": {}
  }
 ],
 "metadata": {
  "orig_nbformat": 4,
  "language_info": {
   "name": "python",
   "version": "3.9.7",
   "mimetype": "text/x-python",
   "codemirror_mode": {
    "name": "ipython",
    "version": 3
   },
   "pygments_lexer": "ipython3",
   "nbconvert_exporter": "python",
   "file_extension": ".py"
  },
  "kernelspec": {
   "name": "python3",
   "display_name": "Python 3.9.7 64-bit ('kakao': venv)"
  },
  "interpreter": {
   "hash": "1514cdb5c0ef3f752a173b723d3085614c52b67c39b6e205d70aeb3581d6d819"
  }
 },
 "nbformat": 4,
 "nbformat_minor": 2
}